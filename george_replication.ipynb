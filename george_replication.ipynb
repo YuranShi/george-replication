{
 "cells": [
  {
   "metadata": {},
   "cell_type": "markdown",
   "source": "# Replication of George on SpuCoMNIST Dataset",
   "id": "e02c09996bd15a03"
  },
  {
   "metadata": {},
   "cell_type": "markdown",
   "source": "#### TODO: Description",
   "id": "d7146e46480b9c7"
  },
  {
   "cell_type": "code",
   "execution_count": null,
   "id": "initial_id",
   "metadata": {
    "collapsed": true
   },
   "outputs": [],
   "source": [
    "import torch\n",
    "import torch.nn as nn\n",
    "import torch.optim as optim\n",
    "import torchvision.transforms as transforms\n",
    "from torch.utils.data import DataLoader, Subset\n",
    "from spuco.datasets import SpuCoMNIST\n",
    "from sklearn.cluster import KMeans\n",
    "import numpy as np"
   ]
  },
  {
   "metadata": {},
   "cell_type": "markdown",
   "source": "## 1. Load SpuCoMNIST Dataset",
   "id": "1d1085c6238bfb63"
  },
  {
   "metadata": {
    "jupyter": {
     "is_executing": true
    }
   },
   "cell_type": "code",
   "source": [
    "def load_data():\n",
    "    transform = transforms.Compose([transforms.ToTensor()])\n",
    "    dataset = SpuCoMNIST(root=\"./data\", train=True, transform=transform, download=True)\n",
    "    test_dataset = SpuCoMNIST(root=\"./data\", train=False, transform=transform, download=True)\n",
    "    \n",
    "    train_loader = DataLoader(dataset, batch_size=128, shuffle=True)\n",
    "    test_loader = DataLoader(test_dataset, batch_size=128, shuffle=False)\n",
    "    return train_loader, test_loader\n",
    "\n",
    "train_loader, test_loader = load_data()"
   ],
   "id": "2a1b932b8367ff10",
   "outputs": [],
   "execution_count": null
  }
 ],
 "metadata": {
  "kernelspec": {
   "display_name": "Python 2",
   "language": "python",
   "name": "python2"
  },
  "language_info": {
   "codemirror_mode": {
    "name": "ipython",
    "version": 2
   },
   "file_extension": ".py",
   "mimetype": "text/x-python",
   "name": "python",
   "nbconvert_exporter": "python",
   "pygments_lexer": "ipython2",
   "version": "2.7.6"
  }
 },
 "nbformat": 4,
 "nbformat_minor": 5
}
