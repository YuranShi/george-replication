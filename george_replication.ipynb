{
 "cells": [
  {
   "metadata": {},
   "cell_type": "markdown",
   "source": "# Replication of George on SpuCoMNIST Dataset",
   "id": "e02c09996bd15a03"
  },
  {
   "cell_type": "code",
   "id": "initial_id",
   "metadata": {
    "collapsed": true,
    "ExecuteTime": {
     "end_time": "2025-02-03T18:22:07.114038Z",
     "start_time": "2025-02-03T18:22:01.832142Z"
    }
   },
   "source": [
    "from os.path import split\n",
    "\n",
    "# Import packages\n",
    "import torch\n",
    "import torch.nn as nn\n",
    "import torch.optim as optim\n",
    "import torchvision.transforms as transforms\n",
    "from torch.utils.data import DataLoader, Subset\n",
    "from spuco.datasets import SpuCoMNIST\n",
    "from sklearn.cluster import KMeans\n",
    "import numpy as np"
   ],
   "outputs": [],
   "execution_count": 2
  },
  {
   "metadata": {},
   "cell_type": "markdown",
   "source": [
    "## 1. Load and Explore SpuCoMNIST Dataset\n",
    "\n",
    "### Install spuco package"
   ],
   "id": "1d1085c6238bfb63"
  },
  {
   "metadata": {
    "ExecuteTime": {
     "end_time": "2025-02-03T18:36:14.554132Z",
     "start_time": "2025-02-03T18:36:13.770462Z"
    }
   },
   "cell_type": "code",
   "source": [
    "# Install spuco package\n",
    "%pip install spuco --upgrade;"
   ],
   "id": "83c7a7b7e1228b39",
   "outputs": [
    {
     "name": "stdout",
     "output_type": "stream",
     "text": [
      "Requirement already satisfied: spuco in /Users/shiyuran/opt/anaconda3/envs/deep-learning/lib/python3.12/site-packages (2.0.3)\r\n",
      "Requirement already satisfied: matplotlib>=3.7.1 in /Users/shiyuran/opt/anaconda3/envs/deep-learning/lib/python3.12/site-packages (from spuco) (3.10.0)\r\n",
      "Requirement already satisfied: numpy>=1.23.5 in /Users/shiyuran/opt/anaconda3/envs/deep-learning/lib/python3.12/site-packages (from spuco) (2.1.3)\r\n",
      "Requirement already satisfied: setuptools>=61.0 in /Users/shiyuran/opt/anaconda3/envs/deep-learning/lib/python3.12/site-packages (from spuco) (72.1.0)\r\n",
      "Requirement already satisfied: torch>=2.0.0 in /Users/shiyuran/opt/anaconda3/envs/deep-learning/lib/python3.12/site-packages (from spuco) (2.5.1)\r\n",
      "Requirement already satisfied: torchvision>=0.15.1 in /Users/shiyuran/opt/anaconda3/envs/deep-learning/lib/python3.12/site-packages (from spuco) (0.20.1)\r\n",
      "Requirement already satisfied: tqdm>=4.65.0 in /Users/shiyuran/opt/anaconda3/envs/deep-learning/lib/python3.12/site-packages (from spuco) (4.67.1)\r\n",
      "Requirement already satisfied: scikit-learn>=0.20.0 in /Users/shiyuran/opt/anaconda3/envs/deep-learning/lib/python3.12/site-packages (from spuco) (1.6.1)\r\n",
      "Requirement already satisfied: wilds>=2.0.0 in /Users/shiyuran/opt/anaconda3/envs/deep-learning/lib/python3.12/site-packages (from spuco) (2.0.0)\r\n",
      "Requirement already satisfied: transformers>=3.5.0 in /Users/shiyuran/opt/anaconda3/envs/deep-learning/lib/python3.12/site-packages (from spuco) (4.48.2)\r\n",
      "Requirement already satisfied: umap-learn>=0.5.5 in /Users/shiyuran/opt/anaconda3/envs/deep-learning/lib/python3.12/site-packages (from spuco) (0.5.7)\r\n",
      "Requirement already satisfied: grad-cam>=1.5.0 in /Users/shiyuran/opt/anaconda3/envs/deep-learning/lib/python3.12/site-packages (from spuco) (1.5.4)\r\n",
      "Requirement already satisfied: Pillow in /Users/shiyuran/opt/anaconda3/envs/deep-learning/lib/python3.12/site-packages (from grad-cam>=1.5.0->spuco) (11.0.0)\r\n",
      "Requirement already satisfied: ttach in /Users/shiyuran/opt/anaconda3/envs/deep-learning/lib/python3.12/site-packages (from grad-cam>=1.5.0->spuco) (0.0.3)\r\n",
      "Requirement already satisfied: opencv-python in /Users/shiyuran/opt/anaconda3/envs/deep-learning/lib/python3.12/site-packages (from grad-cam>=1.5.0->spuco) (4.11.0.86)\r\n",
      "Requirement already satisfied: contourpy>=1.0.1 in /Users/shiyuran/opt/anaconda3/envs/deep-learning/lib/python3.12/site-packages (from matplotlib>=3.7.1->spuco) (1.3.1)\r\n",
      "Requirement already satisfied: cycler>=0.10 in /Users/shiyuran/opt/anaconda3/envs/deep-learning/lib/python3.12/site-packages (from matplotlib>=3.7.1->spuco) (0.12.1)\r\n",
      "Requirement already satisfied: fonttools>=4.22.0 in /Users/shiyuran/opt/anaconda3/envs/deep-learning/lib/python3.12/site-packages (from matplotlib>=3.7.1->spuco) (4.55.8)\r\n",
      "Requirement already satisfied: kiwisolver>=1.3.1 in /Users/shiyuran/opt/anaconda3/envs/deep-learning/lib/python3.12/site-packages (from matplotlib>=3.7.1->spuco) (1.4.8)\r\n",
      "Requirement already satisfied: packaging>=20.0 in /Users/shiyuran/opt/anaconda3/envs/deep-learning/lib/python3.12/site-packages (from matplotlib>=3.7.1->spuco) (24.1)\r\n",
      "Requirement already satisfied: pyparsing>=2.3.1 in /Users/shiyuran/opt/anaconda3/envs/deep-learning/lib/python3.12/site-packages (from matplotlib>=3.7.1->spuco) (3.2.1)\r\n",
      "Requirement already satisfied: python-dateutil>=2.7 in /Users/shiyuran/opt/anaconda3/envs/deep-learning/lib/python3.12/site-packages (from matplotlib>=3.7.1->spuco) (2.9.0.post0)\r\n",
      "Requirement already satisfied: scipy>=1.6.0 in /Users/shiyuran/opt/anaconda3/envs/deep-learning/lib/python3.12/site-packages (from scikit-learn>=0.20.0->spuco) (1.15.1)\r\n",
      "Requirement already satisfied: joblib>=1.2.0 in /Users/shiyuran/opt/anaconda3/envs/deep-learning/lib/python3.12/site-packages (from scikit-learn>=0.20.0->spuco) (1.4.2)\r\n",
      "Requirement already satisfied: threadpoolctl>=3.1.0 in /Users/shiyuran/opt/anaconda3/envs/deep-learning/lib/python3.12/site-packages (from scikit-learn>=0.20.0->spuco) (3.5.0)\r\n",
      "Requirement already satisfied: filelock in /Users/shiyuran/opt/anaconda3/envs/deep-learning/lib/python3.12/site-packages (from torch>=2.0.0->spuco) (3.13.1)\r\n",
      "Requirement already satisfied: typing-extensions>=4.8.0 in /Users/shiyuran/opt/anaconda3/envs/deep-learning/lib/python3.12/site-packages (from torch>=2.0.0->spuco) (4.11.0)\r\n",
      "Requirement already satisfied: sympy==1.13.1 in /Users/shiyuran/opt/anaconda3/envs/deep-learning/lib/python3.12/site-packages (from torch>=2.0.0->spuco) (1.13.1)\r\n",
      "Requirement already satisfied: networkx in /Users/shiyuran/opt/anaconda3/envs/deep-learning/lib/python3.12/site-packages (from torch>=2.0.0->spuco) (3.2.1)\r\n",
      "Requirement already satisfied: jinja2 in /Users/shiyuran/opt/anaconda3/envs/deep-learning/lib/python3.12/site-packages (from torch>=2.0.0->spuco) (3.1.4)\r\n",
      "Requirement already satisfied: fsspec in /Users/shiyuran/opt/anaconda3/envs/deep-learning/lib/python3.12/site-packages (from torch>=2.0.0->spuco) (2025.2.0)\r\n",
      "Requirement already satisfied: mpmath<1.4,>=1.1.0 in /Users/shiyuran/opt/anaconda3/envs/deep-learning/lib/python3.12/site-packages (from sympy==1.13.1->torch>=2.0.0->spuco) (1.3.0)\r\n",
      "Requirement already satisfied: huggingface-hub<1.0,>=0.24.0 in /Users/shiyuran/opt/anaconda3/envs/deep-learning/lib/python3.12/site-packages (from transformers>=3.5.0->spuco) (0.28.1)\r\n",
      "Requirement already satisfied: pyyaml>=5.1 in /Users/shiyuran/opt/anaconda3/envs/deep-learning/lib/python3.12/site-packages (from transformers>=3.5.0->spuco) (6.0.2)\r\n",
      "Requirement already satisfied: regex!=2019.12.17 in /Users/shiyuran/opt/anaconda3/envs/deep-learning/lib/python3.12/site-packages (from transformers>=3.5.0->spuco) (2024.11.6)\r\n",
      "Requirement already satisfied: requests in /Users/shiyuran/opt/anaconda3/envs/deep-learning/lib/python3.12/site-packages (from transformers>=3.5.0->spuco) (2.32.3)\r\n",
      "Requirement already satisfied: tokenizers<0.22,>=0.21 in /Users/shiyuran/opt/anaconda3/envs/deep-learning/lib/python3.12/site-packages (from transformers>=3.5.0->spuco) (0.21.0)\r\n",
      "Requirement already satisfied: safetensors>=0.4.1 in /Users/shiyuran/opt/anaconda3/envs/deep-learning/lib/python3.12/site-packages (from transformers>=3.5.0->spuco) (0.5.2)\r\n",
      "Requirement already satisfied: numba>=0.51.2 in /Users/shiyuran/opt/anaconda3/envs/deep-learning/lib/python3.12/site-packages (from umap-learn>=0.5.5->spuco) (0.61.0)\r\n",
      "Requirement already satisfied: pynndescent>=0.5 in /Users/shiyuran/opt/anaconda3/envs/deep-learning/lib/python3.12/site-packages (from umap-learn>=0.5.5->spuco) (0.5.13)\r\n",
      "Requirement already satisfied: ogb>=1.2.6 in /Users/shiyuran/opt/anaconda3/envs/deep-learning/lib/python3.12/site-packages (from wilds>=2.0.0->spuco) (1.3.6)\r\n",
      "Requirement already satisfied: outdated>=0.2.0 in /Users/shiyuran/opt/anaconda3/envs/deep-learning/lib/python3.12/site-packages (from wilds>=2.0.0->spuco) (0.2.2)\r\n",
      "Requirement already satisfied: pandas>=1.1.0 in /Users/shiyuran/opt/anaconda3/envs/deep-learning/lib/python3.12/site-packages (from wilds>=2.0.0->spuco) (2.2.3)\r\n",
      "Requirement already satisfied: pytz>=2020.4 in /Users/shiyuran/opt/anaconda3/envs/deep-learning/lib/python3.12/site-packages (from wilds>=2.0.0->spuco) (2024.1)\r\n",
      "Requirement already satisfied: llvmlite<0.45,>=0.44.0dev0 in /Users/shiyuran/opt/anaconda3/envs/deep-learning/lib/python3.12/site-packages (from numba>=0.51.2->umap-learn>=0.5.5->spuco) (0.44.0)\r\n",
      "Requirement already satisfied: six>=1.12.0 in /Users/shiyuran/opt/anaconda3/envs/deep-learning/lib/python3.12/site-packages (from ogb>=1.2.6->wilds>=2.0.0->spuco) (1.16.0)\r\n",
      "Requirement already satisfied: urllib3>=1.24.0 in /Users/shiyuran/opt/anaconda3/envs/deep-learning/lib/python3.12/site-packages (from ogb>=1.2.6->wilds>=2.0.0->spuco) (2.2.3)\r\n",
      "Requirement already satisfied: littleutils in /Users/shiyuran/opt/anaconda3/envs/deep-learning/lib/python3.12/site-packages (from outdated>=0.2.0->wilds>=2.0.0->spuco) (0.2.4)\r\n",
      "Requirement already satisfied: tzdata>=2022.7 in /Users/shiyuran/opt/anaconda3/envs/deep-learning/lib/python3.12/site-packages (from pandas>=1.1.0->wilds>=2.0.0->spuco) (2025.1)\r\n",
      "Requirement already satisfied: MarkupSafe>=2.0 in /Users/shiyuran/opt/anaconda3/envs/deep-learning/lib/python3.12/site-packages (from jinja2->torch>=2.0.0->spuco) (2.1.3)\r\n",
      "Requirement already satisfied: charset-normalizer<4,>=2 in /Users/shiyuran/opt/anaconda3/envs/deep-learning/lib/python3.12/site-packages (from requests->transformers>=3.5.0->spuco) (3.3.2)\r\n",
      "Requirement already satisfied: idna<4,>=2.5 in /Users/shiyuran/opt/anaconda3/envs/deep-learning/lib/python3.12/site-packages (from requests->transformers>=3.5.0->spuco) (3.7)\r\n",
      "Requirement already satisfied: certifi>=2017.4.17 in /Users/shiyuran/opt/anaconda3/envs/deep-learning/lib/python3.12/site-packages (from requests->transformers>=3.5.0->spuco) (2024.12.14)\r\n",
      "Note: you may need to restart the kernel to use updated packages.\n"
     ]
    }
   ],
   "execution_count": 5
  },
  {
   "metadata": {},
   "cell_type": "markdown",
   "source": "### Load SpuCoMNIST Dataset",
   "id": "5c215d6b4390ec3d"
  },
  {
   "metadata": {
    "ExecuteTime": {
     "end_time": "2025-02-08T18:49:14.174645Z",
     "start_time": "2025-02-08T18:49:00.565449Z"
    }
   },
   "cell_type": "code",
   "source": [
    "from spuco.datasets import SpuCoMNIST, SpuriousFeatureDifficulty\n",
    "import torchvision.transforms as T\n",
    "\n",
    "classes = [[0, 1], [2, 3], [4, 5], [6, 7], [8, 9]]\n",
    "difficulty = SpuriousFeatureDifficulty.MAGNITUDE_LARGE\n",
    "\n",
    "train_set = SpuCoMNIST(\n",
    "    root=\"./data\",\n",
    "    spurious_feature_difficulty=difficulty,\n",
    "    spurious_correlation_strength=0.995,\n",
    "    classes=classes,\n",
    "    split=\"train\"\n",
    ")\n",
    "train_set.initialize()\n",
    "\n",
    "test_set = SpuCoMNIST(\n",
    "    root=\"./data\",\n",
    "    spurious_feature_difficulty=difficulty,\n",
    "    classes=classes,\n",
    "    split=\"test\"\n",
    ")\n",
    "test_set.initialize()"
   ],
   "id": "2a1b932b8367ff10",
   "outputs": [
    {
     "name": "stdout",
     "output_type": "stream",
     "text": [
      "Downloading http://yann.lecun.com/exdb/mnist/train-images-idx3-ubyte.gz\n",
      "Failed to download (trying next):\n",
      "HTTP Error 404: Not Found\n",
      "\n",
      "Downloading https://ossci-datasets.s3.amazonaws.com/mnist/train-images-idx3-ubyte.gz\n",
      "Downloading https://ossci-datasets.s3.amazonaws.com/mnist/train-images-idx3-ubyte.gz to ./data/MNIST/raw/train-images-idx3-ubyte.gz\n"
     ]
    },
    {
     "name": "stderr",
     "output_type": "stream",
     "text": [
      "100%|██████████| 9.91M/9.91M [00:01<00:00, 9.57MB/s]\n"
     ]
    },
    {
     "name": "stdout",
     "output_type": "stream",
     "text": [
      "Extracting ./data/MNIST/raw/train-images-idx3-ubyte.gz to ./data/MNIST/raw\n",
      "\n",
      "Downloading http://yann.lecun.com/exdb/mnist/train-labels-idx1-ubyte.gz\n",
      "Failed to download (trying next):\n",
      "HTTP Error 404: Not Found\n",
      "\n",
      "Downloading https://ossci-datasets.s3.amazonaws.com/mnist/train-labels-idx1-ubyte.gz\n",
      "Downloading https://ossci-datasets.s3.amazonaws.com/mnist/train-labels-idx1-ubyte.gz to ./data/MNIST/raw/train-labels-idx1-ubyte.gz\n"
     ]
    },
    {
     "name": "stderr",
     "output_type": "stream",
     "text": [
      "100%|██████████| 28.9k/28.9k [00:00<00:00, 301kB/s]\n"
     ]
    },
    {
     "name": "stdout",
     "output_type": "stream",
     "text": [
      "Extracting ./data/MNIST/raw/train-labels-idx1-ubyte.gz to ./data/MNIST/raw\n",
      "\n",
      "Downloading http://yann.lecun.com/exdb/mnist/t10k-images-idx3-ubyte.gz\n",
      "Failed to download (trying next):\n",
      "HTTP Error 404: Not Found\n",
      "\n",
      "Downloading https://ossci-datasets.s3.amazonaws.com/mnist/t10k-images-idx3-ubyte.gz\n",
      "Downloading https://ossci-datasets.s3.amazonaws.com/mnist/t10k-images-idx3-ubyte.gz to ./data/MNIST/raw/t10k-images-idx3-ubyte.gz\n"
     ]
    },
    {
     "name": "stderr",
     "output_type": "stream",
     "text": [
      "100%|██████████| 1.65M/1.65M [00:00<00:00, 2.91MB/s]\n"
     ]
    },
    {
     "name": "stdout",
     "output_type": "stream",
     "text": [
      "Extracting ./data/MNIST/raw/t10k-images-idx3-ubyte.gz to ./data/MNIST/raw\n",
      "\n",
      "Downloading http://yann.lecun.com/exdb/mnist/t10k-labels-idx1-ubyte.gz\n",
      "Failed to download (trying next):\n",
      "HTTP Error 404: Not Found\n",
      "\n",
      "Downloading https://ossci-datasets.s3.amazonaws.com/mnist/t10k-labels-idx1-ubyte.gz\n",
      "Downloading https://ossci-datasets.s3.amazonaws.com/mnist/t10k-labels-idx1-ubyte.gz to ./data/MNIST/raw/t10k-labels-idx1-ubyte.gz\n"
     ]
    },
    {
     "name": "stderr",
     "output_type": "stream",
     "text": [
      "100%|██████████| 4.54k/4.54k [00:00<00:00, 3.42MB/s]\n"
     ]
    },
    {
     "name": "stdout",
     "output_type": "stream",
     "text": [
      "Extracting ./data/MNIST/raw/t10k-labels-idx1-ubyte.gz to ./data/MNIST/raw\n",
      "\n"
     ]
    }
   ],
   "execution_count": 9
  },
  {
   "metadata": {},
   "cell_type": "markdown",
   "source": "### Check Training and Testing Dataset Size",
   "id": "6cf9a8b6c63b10ff"
  },
  {
   "metadata": {
    "ExecuteTime": {
     "end_time": "2025-02-08T18:57:22.084255Z",
     "start_time": "2025-02-08T18:57:22.081293Z"
    }
   },
   "cell_type": "code",
   "source": [
    "# Check the length of training and testing set\n",
    "len(train_set), len(test_set)"
   ],
   "id": "37f46ea0ffb87a5c",
   "outputs": [
    {
     "data": {
      "text/plain": [
       "(48004, 10000)"
      ]
     },
     "execution_count": 21,
     "metadata": {},
     "output_type": "execute_result"
    }
   ],
   "execution_count": 21
  },
  {
   "metadata": {},
   "cell_type": "markdown",
   "source": "### Visualize Image",
   "id": "ab3bc15c35487eb9"
  },
  {
   "metadata": {
    "ExecuteTime": {
     "end_time": "2025-02-08T19:23:21.642731Z",
     "start_time": "2025-02-08T19:23:21.576662Z"
    }
   },
   "cell_type": "code",
   "source": [
    "# Visualize MNIST data\n",
    "import matplotlib.pyplot as plt\n",
    "\n",
    "image, label = train_set[899]\n",
    "print(f\"Image shape: {image.shape}\")\n",
    "\n",
    "plt.imshow(image.permute(1, 2, 0)) # permute to [height, width, color_channel] for matplotlib display purpose\n",
    "plt.title(label)"
   ],
   "id": "7feeff0ee9c073e9",
   "outputs": [
    {
     "name": "stdout",
     "output_type": "stream",
     "text": [
      "Image shape: torch.Size([3, 28, 28])\n"
     ]
    },
    {
     "data": {
      "text/plain": [
       "Text(0.5, 1.0, '0')"
      ]
     },
     "execution_count": 22,
     "metadata": {},
     "output_type": "execute_result"
    },
    {
     "data": {
      "text/plain": [
       "<Figure size 640x480 with 1 Axes>"
      ],
      "image/png": "[encoded data removed]"
     },
     "metadata": {},
     "output_type": "display_data"
    }
   ],
   "execution_count": 22
  }
 ],
 "metadata": {
  "kernelspec": {
   "display_name": "Python 3 (ipykernel)",
   "language": "python",
   "name": "python3"
  },
  "language_info": {
   "codemirror_mode": {
    "name": "ipython",
    "version": 2
   },
   "file_extension": ".py",
   "mimetype": "text/x-python",
   "name": "python",
   "nbconvert_exporter": "python",
   "pygments_lexer": "ipython2",
   "version": "2.7.6"
  }
 },
 "nbformat": 4,
 "nbformat_minor": 5
}
