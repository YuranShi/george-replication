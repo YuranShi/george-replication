{
  "cells": [
    {
      "cell_type": "markdown",
      "metadata": {
        "id": "view-in-github",
        "colab_type": "text"
      },
      "source": [
        "<a href=\"https://colab.research.google.com/github/YuranShi/george-replication/blob/main/george_replication.ipynb\" target=\"_parent\"><img src=\"https://colab.research.google.com/assets/colab-badge.svg\" alt=\"Open In Colab\"/></a>"
      ]
    },
    {
      "metadata": {
        "id": "e02c09996bd15a03"
      },
      "cell_type": "markdown",
      "source": [
        "# George Replication\n",
        "\n",
        "**Prompt**: Deep neural networks often exploit non-predictive features that are spuriously correlated with class labels, leading to poor performance on groups of examples without such features. Using the SpuCo Package ([SpuCo Documentation](https://spuco.readthedocs.io/en/latest/)), we'd like you to implement a simple method to remedy spurious correlations in [SpuCoMNIST](https://spuco.readthedocs.io/en/latest/reference/datasets.html#spuco.datasets.spuco_mnist.SpuCoMNIST) (use default parameters to initialize the dataset).\n",
        "\n",
        "The method ([George](https://arxiv.org/abs/2011.12945)) we'd like you to implement has a 3 step pipeline:\n",
        "1. Train a model using ERM\n",
        "2. Cluster inputs based on the output they produce for ERM\n",
        "3. Retrain using \"Group-Balancing\" to ensure in each batch each group appears equally.\n",
        "\n",
        "We'd like you to send us a notebook with your code and outputs (similar to the [SpuCo Quickstart Notebooks](https://github.com/BigML-CS-UCLA/SpuCo/tree/master/quickstart/spuco_mnist))."
      ],
      "id": "e02c09996bd15a03"
    },
    {
      "metadata": {
        "id": "1d1085c6238bfb63"
      },
      "cell_type": "markdown",
      "source": [
        "## 0. Load and Explore SpuCoMNIST Dataset\n"
      ],
      "id": "1d1085c6238bfb63"
    },
    {
      "metadata": {
        "ExecuteTime": {
          "end_time": "2025-02-08T23:02:17.750438Z",
          "start_time": "2025-02-08T23:02:02.766415Z"
        },
        "id": "83c7a7b7e1228b39"
      },
      "cell_type": "code",
      "source": [
        "# Install spuco package and mute the output\n",
        "%pip install spuco --upgrade > /dev/null 2>&1"
      ],
      "id": "83c7a7b7e1228b39",
      "outputs": [],
      "execution_count": 1
    },
    {
      "metadata": {
        "id": "5c215d6b4390ec3d"
      },
      "cell_type": "markdown",
      "source": [
        "### 0.1 Load SpuCoMNIST Dataset"
      ],
      "id": "5c215d6b4390ec3d"
    },
    {
      "cell_type": "code",
      "source": [
        "import torch\n",
        "from torch.optim import SGD\n",
        "\n",
        "import matplotlib.pyplot as plt\n",
        "\n",
        "from spuco.datasets import SpuCoMNIST, SpuriousFeatureDifficulty\n",
        "from spuco.models import model_factory\n",
        "from spuco.robust_train import ERM\n",
        "from spuco.evaluate import Evaluator\n",
        "from spuco.group_inference import Cluster, ClusterAlg\n",
        "from spuco.robust_train import GroupBalanceBatchERM"
      ],
      "metadata": {
        "id": "uu0Smok9lfpn"
      },
      "id": "uu0Smok9lfpn",
      "execution_count": 2,
      "outputs": []
    },
    {
      "metadata": {
        "ExecuteTime": {
          "end_time": "2025-02-08T23:06:46.499709Z",
          "start_time": "2025-02-08T23:06:34.415721Z"
        },
        "id": "2a1b932b8367ff10",
        "colab": {
          "base_uri": "https://localhost:8080/"
        },
        "outputId": "b2cbb83d-dbaa-4830-9b32-25be44d9e382"
      },
      "cell_type": "code",
      "source": [
        "classes = [[0, 1], [2, 3], [4, 5], [6, 7], [8, 9]]\n",
        "difficulty = SpuriousFeatureDifficulty.MAGNITUDE_LARGE\n",
        "\n",
        "train_set = SpuCoMNIST(\n",
        "    root=\"./data\",\n",
        "    spurious_feature_difficulty=difficulty,\n",
        "    spurious_correlation_strength=0.995,\n",
        "    classes=classes,\n",
        "    split=\"train\",\n",
        "    verbose=True\n",
        ")\n",
        "train_set.initialize()\n",
        "\n",
        "test_set = SpuCoMNIST(\n",
        "    root=\"./data\",\n",
        "    spurious_feature_difficulty=difficulty,\n",
        "    classes=classes,\n",
        "    split=\"test\",\n",
        "    verbose=True\n",
        ")\n",
        "test_set.initialize()"
      ],
      "id": "2a1b932b8367ff10",
      "outputs": [
        {
          "output_type": "stream",
          "name": "stderr",
          "text": [
            "Initializing data: 100%|██████████| 48004/48004 [00:10<00:00, 4409.76it/s]\n",
            "Adding spurious feature: 100%|██████████| 5/5 [00:08<00:00,  1.72s/it]\n",
            "Initializing data: 100%|██████████| 10000/10000 [00:01<00:00, 5489.75it/s]\n",
            "Adding spurious feature: 100%|██████████| 5/5 [00:00<00:00,  5.32it/s]\n"
          ]
        }
      ],
      "execution_count": 52
    },
    {
      "cell_type": "code",
      "source": [
        "# Validate train_set and test_set classes\n",
        "print(train_set.validate_classes(classes))\n",
        "print(test_set.validate_classes(classes))"
      ],
      "metadata": {
        "colab": {
          "base_uri": "https://localhost:8080/"
        },
        "id": "2HM4QPDxJx7t",
        "outputId": "1280b969-bc99-40c9-b617-e3cce3633aea"
      },
      "id": "2HM4QPDxJx7t",
      "execution_count": 53,
      "outputs": [
        {
          "output_type": "stream",
          "name": "stdout",
          "text": [
            "True\n",
            "True\n"
          ]
        }
      ]
    },
    {
      "metadata": {
        "ExecuteTime": {
          "end_time": "2025-02-08T23:06:48.544195Z",
          "start_time": "2025-02-08T23:06:48.539168Z"
        },
        "colab": {
          "base_uri": "https://localhost:8080/"
        },
        "id": "37f46ea0ffb87a5c",
        "outputId": "01445c3b-c193-4d9d-f195-76f4a44ee690"
      },
      "cell_type": "code",
      "source": [
        "# Check the length of training and testing set\n",
        "len(train_set), len(test_set)"
      ],
      "id": "37f46ea0ffb87a5c",
      "outputs": [
        {
          "output_type": "execute_result",
          "data": {
            "text/plain": [
              "(48004, 10000)"
            ]
          },
          "metadata": {},
          "execution_count": 54
        }
      ],
      "execution_count": 54
    },
    {
      "metadata": {
        "id": "ab3bc15c35487eb9"
      },
      "cell_type": "markdown",
      "source": [
        "### 0.2 Visualize SpuCoMNIST Dataset"
      ],
      "id": "ab3bc15c35487eb9"
    },
    {
      "metadata": {
        "ExecuteTime": {
          "end_time": "2025-02-08T23:10:35.494221Z",
          "start_time": "2025-02-08T23:10:35.194792Z"
        },
        "colab": {
          "base_uri": "https://localhost:8080/",
          "height": 521
        },
        "id": "7feeff0ee9c073e9",
        "outputId": "9bdc0c41-2b46-4463-c15b-b3e378d638b7"
      },
      "cell_type": "code",
      "source": [
        "# Visualize MNIST data by random selecting images from SpuCoMNIST Dataset\n",
        "torch.manual_seed(42)\n",
        "\n",
        "fig = plt.figure(figsize=(6, 6))\n",
        "rows, cols = 3, 3\n",
        "\n",
        "for i in range(1, rows * cols + 1):\n",
        "    random_idx = torch.randint(0, len(train_set), size=[1]).item()\n",
        "    img, label = train_set[random_idx]\n",
        "    fig.add_subplot(rows, cols, i)\n",
        "    plt.imshow(img.permute(1, 2, 0))\n",
        "    plt.axis('off')\n",
        "    plt.title(label)"
      ],
      "id": "7feeff0ee9c073e9",
      "outputs": [
        {
          "output_type": "display_data",
          "data": {
            "text/plain": [
              "<Figure size 600x600 with 9 Axes>"
            ],
            "image/png": "[encoded data removed]"
          },
          "metadata": {}
        }
      ],
      "execution_count": 55
    },
    {
      "metadata": {
        "ExecuteTime": {
          "end_time": "2025-02-08T23:53:52.418037Z",
          "start_time": "2025-02-08T23:53:52.414442Z"
        },
        "id": "20a5ec0de37e0f7f"
      },
      "cell_type": "code",
      "source": [
        "# Set device agnostic code\n",
        "device = torch.device(\"cuda\" if torch.cuda.is_available() else \"cpu\")"
      ],
      "id": "20a5ec0de37e0f7f",
      "outputs": [],
      "execution_count": 56
    },
    {
      "metadata": {
        "id": "dcc72238d81d44d8"
      },
      "cell_type": "markdown",
      "source": [
        "## 1. Train Model with ERM"
      ],
      "id": "dcc72238d81d44d8"
    },
    {
      "cell_type": "markdown",
      "source": [
        "### 1.1 Train LeNet Model"
      ],
      "metadata": {
        "id": "yBRy3N8MwBPw"
      },
      "id": "yBRy3N8MwBPw"
    },
    {
      "metadata": {
        "ExecuteTime": {
          "end_time": "2025-02-08T23:54:10.673708Z",
          "start_time": "2025-02-08T23:54:09.640305Z"
        },
        "colab": {
          "base_uri": "https://localhost:8080/"
        },
        "id": "32f16e2497b1366f",
        "outputId": "16f48298-8fcc-4a24-e3ab-2b3b18b8780a"
      },
      "cell_type": "code",
      "source": [
        "model = model_factory(\"lenet\", train_set[0][0].shape, train_set.num_classes).to(device)\n",
        "model"
      ],
      "id": "32f16e2497b1366f",
      "outputs": [
        {
          "output_type": "execute_result",
          "data": {
            "text/plain": [
              "SpuCoModel(\n",
              "  (backbone): LeNet(\n",
              "    (features): Sequential(\n",
              "      (0): Conv2d(3, 6, kernel_size=(5, 5), stride=(1, 1), padding=(2, 2))\n",
              "      (1): ReLU(inplace=True)\n",
              "      (2): MaxPool2d(kernel_size=2, stride=2, padding=0, dilation=1, ceil_mode=False)\n",
              "      (3): Conv2d(6, 16, kernel_size=(5, 5), stride=(1, 1))\n",
              "      (4): ReLU(inplace=True)\n",
              "      (5): MaxPool2d(kernel_size=2, stride=2, padding=0, dilation=1, ceil_mode=False)\n",
              "    )\n",
              "    (fc_1): Linear(in_features=400, out_features=120, bias=True)\n",
              "    (fc_2): Linear(in_features=120, out_features=84, bias=True)\n",
              "  )\n",
              "  (classifier): Linear(in_features=84, out_features=5, bias=True)\n",
              ")"
            ]
          },
          "metadata": {},
          "execution_count": 57
        }
      ],
      "execution_count": 57
    },
    {
      "metadata": {
        "ExecuteTime": {
          "end_time": "2025-02-08T23:54:50.424902Z",
          "start_time": "2025-02-08T23:54:38.106678Z"
        },
        "colab": {
          "base_uri": "https://localhost:8080/"
        },
        "id": "bd9836defcba33ef",
        "outputId": "920835fa-d093-4b9f-c42a-1244cf89d637"
      },
      "cell_type": "code",
      "source": [
        "BATCH_SIZE = 64\n",
        "optimizer = SGD(model.parameters(), lr=1e-2, momentum=0.9, nesterov=True)\n",
        "\n",
        "erm = ERM(\n",
        "    model=model,\n",
        "    num_epochs=1,\n",
        "    trainset=train_set,\n",
        "    batch_size=BATCH_SIZE,\n",
        "    optimizer=optimizer,\n",
        "    device=device,\n",
        "    verbose=False\n",
        ")"
      ],
      "id": "bd9836defcba33ef",
      "outputs": [
        {
          "output_type": "stream",
          "name": "stderr",
          "text": [
            "/usr/local/lib/python3.11/dist-packages/torch/utils/data/dataloader.py:617: UserWarning: This DataLoader will create 4 worker processes in total. Our suggested max number of worker in current system is 2, which is smaller than what this DataLoader is going to create. Please be aware that excessive worker creation might get DataLoader running slow or even freeze, lower the worker number to avoid potential slowness/freeze if necessary.\n",
            "  warnings.warn(\n"
          ]
        }
      ],
      "execution_count": 58
    },
    {
      "metadata": {
        "ExecuteTime": {
          "end_time": "2025-02-08T23:55:44.442510Z",
          "start_time": "2025-02-08T23:55:36.502420Z"
        },
        "id": "7a66290d22474fa3",
        "collapsed": true
      },
      "cell_type": "code",
      "source": [
        "erm.train()"
      ],
      "id": "7a66290d22474fa3",
      "outputs": [],
      "execution_count": 59
    },
    {
      "cell_type": "markdown",
      "source": [
        "### 1.2 Evaluation"
      ],
      "metadata": {
        "id": "5pMkLcqdw3KI"
      },
      "id": "5pMkLcqdw3KI"
    },
    {
      "metadata": {
        "colab": {
          "base_uri": "https://localhost:8080/"
        },
        "id": "25f51e3c74b85f66",
        "outputId": "e85c134c-a514-4b06-aa9f-9a5069009874"
      },
      "cell_type": "code",
      "outputs": [
        {
          "output_type": "stream",
          "name": "stderr",
          "text": [
            "Evaluating group-wise accuracy: 100%|██████████| 25/25 [00:24<00:00,  1.03it/s]\n"
          ]
        },
        {
          "output_type": "execute_result",
          "data": {
            "text/plain": [
              "{(0, 0): 100.0,\n",
              " (0, 1): 0.0,\n",
              " (0, 2): 0.0,\n",
              " (0, 3): 0.0,\n",
              " (0, 4): 0.0,\n",
              " (1, 0): 0.0,\n",
              " (1, 1): 100.0,\n",
              " (1, 2): 0.0,\n",
              " (1, 3): 0.0,\n",
              " (1, 4): 0.0,\n",
              " (2, 0): 0.0,\n",
              " (2, 1): 0.0,\n",
              " (2, 2): 100.0,\n",
              " (2, 3): 0.0,\n",
              " (2, 4): 0.0,\n",
              " (3, 0): 0.0,\n",
              " (3, 1): 0.0,\n",
              " (3, 2): 0.0,\n",
              " (3, 3): 100.0,\n",
              " (3, 4): 0.0,\n",
              " (4, 0): 0.0,\n",
              " (4, 1): 0.0,\n",
              " (4, 2): 0.0,\n",
              " (4, 3): 0.0,\n",
              " (4, 4): 100.0}"
            ]
          },
          "metadata": {},
          "execution_count": 60
        }
      ],
      "execution_count": 60,
      "source": [
        "evaluator = Evaluator(\n",
        "    testset=test_set,\n",
        "    group_partition=test_set.group_partition,\n",
        "    group_weights=train_set.group_weights,\n",
        "    batch_size=64,\n",
        "    model=model,\n",
        "    device=device,\n",
        "    verbose=False\n",
        ")\n",
        "evaluator.evaluate()"
      ],
      "id": "25f51e3c74b85f66"
    },
    {
      "cell_type": "code",
      "source": [
        "print(f\"Worst group accuracy: {evaluator.worst_group_accuracy} -> (group, accuracy)\")\n",
        "print(f\"Average accuracy: {evaluator.average_accuracy}\")\n",
        "print(f\"Evaluate spurious attribute prediction: {evaluator.evaluate_spurious_attribute_prediction()}\")"
      ],
      "metadata": {
        "colab": {
          "base_uri": "https://localhost:8080/"
        },
        "id": "pJM8I1P1npoT",
        "outputId": "a3e76374-d520-4bd1-f090-208c732b7566"
      },
      "id": "pJM8I1P1npoT",
      "execution_count": 61,
      "outputs": [
        {
          "output_type": "stream",
          "name": "stdout",
          "text": [
            "Worst group accuracy: ((0, 1), 0.0) -> (group, accuracy)\n",
            "Average accuracy: 99.49379218398467\n",
            "Evaluate spurious attribute prediction: 20.4\n"
          ]
        }
      ]
    },
    {
      "cell_type": "markdown",
      "source": [
        "## 2. Cluster Inputs Based on ERM Outputs\n"
      ],
      "metadata": {
        "id": "4B4XwFFY_LAc"
      },
      "id": "4B4XwFFY_LAc"
    },
    {
      "cell_type": "code",
      "source": [
        "# Get the train output logits from trained model for clustering\n",
        "model.eval()\n",
        "\n",
        "output_logits = []\n",
        "\n",
        "with torch.inference_mode():\n",
        "  for sample, _ in train_set:\n",
        "    sample = torch.unsqueeze(sample, dim=0).to(device) # Add a batch dimension\n",
        "    logits = model(sample)\n",
        "    output_logits.append(logits)\n",
        "\n",
        "output_logits = torch.cat(output_logits)"
      ],
      "metadata": {
        "id": "N66aPnZIdYIS"
      },
      "id": "N66aPnZIdYIS",
      "execution_count": 63,
      "outputs": []
    },
    {
      "cell_type": "code",
      "source": [
        "output_logits.size()"
      ],
      "metadata": {
        "colab": {
          "base_uri": "https://localhost:8080/"
        },
        "id": "d6XINXBwhbla",
        "outputId": "0c440623-e138-4f81-9602-cda906f4b781"
      },
      "id": "d6XINXBwhbla",
      "execution_count": 64,
      "outputs": [
        {
          "output_type": "execute_result",
          "data": {
            "text/plain": [
              "torch.Size([48004, 5])"
            ]
          },
          "metadata": {},
          "execution_count": 64
        }
      ]
    },
    {
      "cell_type": "code",
      "source": [
        "cluster = Cluster(\n",
        "    Z=output_logits,\n",
        "    class_labels=train_set.labels,\n",
        "    cluster_alg=ClusterAlg.KMEANS,\n",
        "    num_clusters=2,\n",
        "    device=device,\n",
        "    verbose=True\n",
        ")\n",
        "group_partition = cluster.infer_groups()"
      ],
      "metadata": {
        "colab": {
          "base_uri": "https://localhost:8080/"
        },
        "id": "cZmeQvE7_V78",
        "outputId": "87ea6ee3-d424-424b-ae9c-8715a75b079f"
      },
      "id": "cZmeQvE7_V78",
      "execution_count": 65,
      "outputs": [
        {
          "output_type": "stream",
          "name": "stderr",
          "text": [
            "Clustering class-wise: 100%|██████████| 5/5 [00:00<00:00, 13.83it/s]\n"
          ]
        }
      ]
    },
    {
      "cell_type": "code",
      "source": [
        "for key in sorted(group_partition.keys()):\n",
        "    print(key, len(group_partition[key]))"
      ],
      "metadata": {
        "colab": {
          "base_uri": "https://localhost:8080/"
        },
        "id": "WDQmkOawAbVg",
        "outputId": "81d94b5d-66f0-4fca-e389-da72a3142191"
      },
      "id": "WDQmkOawAbVg",
      "execution_count": 66,
      "outputs": [
        {
          "output_type": "stream",
          "name": "stdout",
          "text": [
            "(0, 0) 10082\n",
            "(0, 1) 51\n",
            "(1, 0) 9623\n",
            "(1, 1) 49\n",
            "(2, 0) 46\n",
            "(2, 1) 8965\n",
            "(3, 0) 9698\n",
            "(3, 1) 49\n",
            "(4, 0) 48\n",
            "(4, 1) 9393\n"
          ]
        }
      ]
    },
    {
      "cell_type": "markdown",
      "source": [
        "## 3. Retrain using \"Group-Balancing\""
      ],
      "metadata": {
        "id": "CSuNBFGzinzU"
      },
      "id": "CSuNBFGzinzU"
    },
    {
      "cell_type": "code",
      "source": [
        "epochs = 2\n",
        "\n",
        "group_balance = GroupBalanceBatchERM(\n",
        "    model=model,\n",
        "    num_epochs=epochs,\n",
        "    trainset=train_set,\n",
        "    group_partition=group_partition,\n",
        "    batch_size=BATCH_SIZE,\n",
        "    optimizer=optimizer,\n",
        "    device=device,\n",
        "    verbose=False\n",
        ")\n",
        "\n",
        "group_balance.train()"
      ],
      "metadata": {
        "colab": {
          "base_uri": "https://localhost:8080/"
        },
        "id": "spTIlhaPi7aA",
        "outputId": "86415f8b-a4e0-4f62-e508-1936a0a86729"
      },
      "id": "spTIlhaPi7aA",
      "execution_count": 67,
      "outputs": [
        {
          "output_type": "stream",
          "name": "stderr",
          "text": [
            "/usr/local/lib/python3.11/dist-packages/torch/utils/data/dataloader.py:617: UserWarning: This DataLoader will create 4 worker processes in total. Our suggested max number of worker in current system is 2, which is smaller than what this DataLoader is going to create. Please be aware that excessive worker creation might get DataLoader running slow or even freeze, lower the worker number to avoid potential slowness/freeze if necessary.\n",
            "  warnings.warn(\n"
          ]
        }
      ]
    },
    {
      "cell_type": "code",
      "source": [
        "evaluator = Evaluator(\n",
        "    testset=test_set,\n",
        "    group_partition=test_set.group_partition,\n",
        "    group_weights=train_set.group_weights,\n",
        "    batch_size=64,\n",
        "    model=model,\n",
        "    device=device,\n",
        "    verbose=False\n",
        ")\n",
        "\n",
        "evaluator.evaluate()"
      ],
      "metadata": {
        "colab": {
          "base_uri": "https://localhost:8080/"
        },
        "id": "ffuz-Y1AlHXG",
        "outputId": "3c7f49e7-7f0d-4f9e-83c0-73dc0d3c18f5"
      },
      "id": "ffuz-Y1AlHXG",
      "execution_count": 68,
      "outputs": [
        {
          "output_type": "stream",
          "name": "stderr",
          "text": [
            "Evaluating group-wise accuracy: 100%|██████████| 25/25 [00:28<00:00,  1.14s/it]\n"
          ]
        },
        {
          "output_type": "execute_result",
          "data": {
            "text/plain": [
              "{(0, 0): 99.52718676122932,\n",
              " (0, 1): 95.27186761229315,\n",
              " (0, 2): 85.34278959810875,\n",
              " (0, 3): 82.74231678486997,\n",
              " (0, 4): 71.15839243498817,\n",
              " (1, 0): 90.70904645476773,\n",
              " (1, 1): 99.26650366748166,\n",
              " (1, 2): 84.80392156862744,\n",
              " (1, 3): 84.55882352941177,\n",
              " (1, 4): 74.26470588235294,\n",
              " (2, 0): 73.86666666666666,\n",
              " (2, 1): 78.13333333333334,\n",
              " (2, 2): 97.6,\n",
              " (2, 3): 54.93333333333333,\n",
              " (2, 4): 13.101604278074866,\n",
              " (3, 0): 74.12060301507537,\n",
              " (3, 1): 70.27707808564232,\n",
              " (3, 2): 79.5969773299748,\n",
              " (3, 3): 100.0,\n",
              " (3, 4): 84.88664987405542,\n",
              " (4, 0): 62.97229219143577,\n",
              " (4, 1): 46.34760705289673,\n",
              " (4, 2): 38.79093198992443,\n",
              " (4, 3): 85.85858585858585,\n",
              " (4, 4): 99.4949494949495}"
            ]
          },
          "metadata": {},
          "execution_count": 68
        }
      ]
    },
    {
      "cell_type": "code",
      "source": [
        "print(f\"Worst group accuracy: {evaluator.worst_group_accuracy} -> (group, accuracy)\")\n",
        "print(f\"Average accuracy: {evaluator.average_accuracy}\")\n",
        "print(f\"Evaluate spurious attribute prediction: {evaluator.evaluate_spurious_attribute_prediction()}\")"
      ],
      "metadata": {
        "colab": {
          "base_uri": "https://localhost:8080/"
        },
        "id": "ZsoTJcSjo1UG",
        "outputId": "baa17592-d444-449c-a60b-3cbe1e8b88f3"
      },
      "id": "ZsoTJcSjo1UG",
      "execution_count": 69,
      "outputs": [
        {
          "output_type": "stream",
          "name": "stdout",
          "text": [
            "Worst group accuracy: ((2, 4), 13.101604278074866) -> (group, accuracy)\n",
            "Average accuracy: 99.0798037031593\n",
            "Evaluate spurious attribute prediction: 20.58\n"
          ]
        }
      ]
    }
  ],
  "metadata": {
    "kernelspec": {
      "display_name": "Python 3",
      "name": "python3"
    },
    "language_info": {
      "codemirror_mode": {
        "name": "ipython",
        "version": 2
      },
      "file_extension": ".py",
      "mimetype": "text/x-python",
      "name": "python",
      "nbconvert_exporter": "python",
      "pygments_lexer": "ipython2",
      "version": "2.7.6"
    },
    "colab": {
      "provenance": [],
      "toc_visible": true,
      "include_colab_link": true
    }
  },
  "nbformat": 4,
  "nbformat_minor": 5
}